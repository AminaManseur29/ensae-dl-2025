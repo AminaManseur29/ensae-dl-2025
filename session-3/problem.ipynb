{
 "cells": [
  {
   "cell_type": "code",
   "execution_count": 1,
   "metadata": {},
   "outputs": [],
   "source": [
    "# MNIST with an MLP, from scratch\n",
    "\n",
    "# - Step 1: build an MLP from scratch to solve MNIST. Question set: https://fleuret.org/dlc/materials/dlc-practical-3.pdf\n",
    "# - Step 2: debug your network with backprop ninja and a reference implementation using torch's .backward()\n",
    "# - Step 3: build the same MLP but will full pytorch code (nn.Linear, etc.)"
   ]
  },
  {
   "cell_type": "code",
   "execution_count": 2,
   "metadata": {},
   "outputs": [],
   "source": [
    "import math\n",
    "import torch\n",
    "from torch import nn\n",
    "import matplotlib.pyplot as plt\n",
    "%matplotlib inline"
   ]
  },
  {
   "cell_type": "code",
   "execution_count": 3,
   "metadata": {},
   "outputs": [],
   "source": [
    "from utils import load_data"
   ]
  },
  {
   "cell_type": "code",
   "execution_count": 4,
   "metadata": {},
   "outputs": [
    {
     "name": "stdout",
     "output_type": "stream",
     "text": [
      "* Using MNIST\n",
      "** Reduce the data-set (use --full for the full thing)\n",
      "** Use 1000 train and 1000 test samples\n"
     ]
    }
   ],
   "source": [
    "train_input, train_target, test_input, test_target = load_data(one_hot_labels = True, normalize = True)"
   ]
  },
  {
   "cell_type": "code",
   "execution_count": 5,
   "metadata": {},
   "outputs": [
    {
     "data": {
      "text/plain": [
       "<matplotlib.image.AxesImage at 0x2128833ad10>"
      ]
     },
     "execution_count": 5,
     "metadata": {},
     "output_type": "execute_result"
    },
    {
     "data": {
      "image/png": "[encoded data removed]",
      "text/plain": [
       "<Figure size 640x480 with 1 Axes>"
      ]
     },
     "metadata": {},
     "output_type": "display_data"
    }
   ],
   "source": [
    "plt.imshow(train_input[4].view((28,28)))"
   ]
  },
  {
   "cell_type": "code",
   "execution_count": 6,
   "metadata": {},
   "outputs": [],
   "source": [
    "def compute_accuracy (preds, targets):\n",
    "    \"\"\" Computes the accuracy between predictions and targets. Data is expected to be one-hot encoded. \"\"\"\n",
    "    _, idx1 = torch.max(preds, dim=1)\n",
    "    _, idx2 = torch.max(targets, dim=1)\n",
    "    d = idx1 == idx2\n",
    "    return d.int().float().mean().item()"
   ]
  },
  {
   "cell_type": "code",
   "execution_count": 29,
   "metadata": {},
   "outputs": [
    {
     "data": {
      "text/plain": [
       "0.75"
      ]
     },
     "execution_count": 29,
     "metadata": {},
     "output_type": "execute_result"
    }
   ],
   "source": [
    "# unit test\n",
    "# this cell should return 0.75\n",
    "preds = torch.zeros((4,7))\n",
    "preds[0,1] = 1\n",
    "preds[1,4] = 1\n",
    "preds[2,2] = 1\n",
    "preds[3,6] = 1\n",
    "targets = torch.zeros((4,7))\n",
    "targets[0,1] = 1\n",
    "targets[1,4] = 1\n",
    "targets[2,2] = 1\n",
    "targets[3,2] = 1\n",
    "compute_accuracy(preds, targets)"
   ]
  },
  {
   "cell_type": "code",
   "execution_count": 30,
   "metadata": {},
   "outputs": [],
   "source": [
    "def sigma(x):\n",
    "    return torch.tanh(x)\n",
    "\n",
    "def dsigma(x):\n",
    "    return 1 - torch.pow(sigma(x), 2)"
   ]
  },
  {
   "cell_type": "code",
   "execution_count": 32,
   "metadata": {},
   "outputs": [],
   "source": [
    "def loss (v,t):\n",
    "    return torch.sum(torch.pow(v-t, 2))\n",
    "\n",
    "def dloss(v,t):\n",
    "    return -2 * (t - v)"
   ]
  },
  {
   "cell_type": "code",
   "execution_count": 33,
   "metadata": {},
   "outputs": [
    {
     "data": {
      "text/plain": [
       "tensor([[ 3.5529,  1.1427, -0.1610, -2.0885, -3.8716, -4.2020],\n",
       "        [ 1.1891,  2.0751,  4.8847,  1.2422, -1.4316, -4.5210],\n",
       "        [ 5.5198, -1.9320, -1.5009, -2.7508,  0.8101,  1.0077]])"
      ]
     },
     "execution_count": 33,
     "metadata": {},
     "output_type": "execute_result"
    }
   ],
   "source": [
    "# sanity check\n",
    "v = torch.randn((3, 6), dtype=torch.float32)\n",
    "t = torch.randn((3, 6), dtype=torch.float32)\n",
    "l=loss(v,t)\n",
    "dloss(v,t)"
   ]
  },
  {
   "cell_type": "code",
   "execution_count": 34,
   "metadata": {},
   "outputs": [],
   "source": [
    "# multiply targets by 0.9 to be in the range of tanh\n",
    "train_target *= 0.9\n",
    "test_target *= 0.9"
   ]
  },
  {
   "cell_type": "markdown",
   "metadata": {},
   "source": [
    "### Step 1: Backprop ninja"
   ]
  },
  {
   "cell_type": "code",
   "execution_count": 35,
   "metadata": {},
   "outputs": [],
   "source": [
    "# utility function we will use later when comparing manual gradients to PyTorch gradients\n",
    "# DO NOT MODIFY IT\n",
    "#\n",
    "def cmp(s, dt, t):\n",
    "  ex = torch.all(dt == t.grad).item()\n",
    "  app = torch.allclose(dt, t.grad)\n",
    "  maxdiff = (dt - t.grad).abs().max().item()\n",
    "  print(f'{s:15s} | exact: {str(ex):5s} | approximate: {str(app):5s} | maxdiff: {maxdiff}')"
   ]
  },
  {
   "cell_type": "code",
   "execution_count": 36,
   "metadata": {},
   "outputs": [],
   "source": [
    "torch.manual_seed(1337)\n",
    "w1 = torch.randn((784, 50))\n",
    "b1 = torch.randn((50))\n",
    "w2 = torch.randn((50, 10))\n",
    "b2 = torch.randn((10))\n",
    "parameters = [w1, b1, w2, b2]\n",
    "for p in parameters:\n",
    "    p.requires_grad = True"
   ]
  },
  {
   "cell_type": "code",
   "execution_count": 37,
   "metadata": {},
   "outputs": [
    {
     "data": {
      "text/plain": [
       "(torch.Size([5, 10]), tensor(43.0514, grad_fn=<SumBackward0>))"
      ]
     },
     "execution_count": 37,
     "metadata": {},
     "output_type": "execute_result"
    }
   ],
   "source": [
    "x1 = train_input[:5]\n",
    "y1 = train_target[:5]\n",
    "z1 = x1@w1 + b1\n",
    "h1 = sigma(z1)\n",
    "z2 = h1@w2 + b2\n",
    "h2 = sigma(z2)\n",
    "l = loss(h2, y1)\n",
    "h2.shape, l"
   ]
  },
  {
   "cell_type": "code",
   "execution_count": 38,
   "metadata": {},
   "outputs": [
    {
     "name": "stdout",
     "output_type": "stream",
     "text": [
      "loss=43.05143356323242\n"
     ]
    }
   ],
   "source": [
    "# Force pytorch to retain grade for intermediate nodes and reset grad for parameters\n",
    "# DO NOT MODIFY THIS CODE\n",
    "#\n",
    "others = [h2,z2,h1,z1]\n",
    "for p in parameters:\n",
    "    p.grad = None\n",
    "for t in others:\n",
    "    t.retain_grad()\n",
    "l.backward()\n",
    "print(f'loss={l}')"
   ]
  },
  {
   "cell_type": "code",
   "execution_count": 39,
   "metadata": {},
   "outputs": [
    {
     "data": {
      "text/plain": [
       "torch.Size([10])"
      ]
     },
     "execution_count": 39,
     "metadata": {},
     "output_type": "execute_result"
    }
   ],
   "source": [
    "b2.grad.shape"
   ]
  },
  {
   "cell_type": "code",
   "execution_count": 40,
   "metadata": {},
   "outputs": [
    {
     "name": "stdout",
     "output_type": "stream",
     "text": [
      "h2              | exact: True  | approximate: True  | maxdiff: 0.0\n",
      "z2              | exact: True  | approximate: True  | maxdiff: 0.0\n",
      "w2              | exact: True  | approximate: True  | maxdiff: 0.0\n",
      "b2              | exact: True  | approximate: True  | maxdiff: 0.0\n",
      "h1              | exact: True  | approximate: True  | maxdiff: 0.0\n",
      "z1              | exact: True  | approximate: True  | maxdiff: 0.0\n",
      "w1              | exact: True  | approximate: True  | maxdiff: 0.0\n",
      "b1              | exact: True  | approximate: True  | maxdiff: 0.0\n"
     ]
    }
   ],
   "source": [
    "# here we compare our gradient to the reference gradient computed by pytorch\n",
    "dl = 1.0\n",
    "dh2 = dloss(h2, y1)*dl\n",
    "cmp('h2',dh2,h2)\n",
    "dz2 = dsigma(z2)*dh2\n",
    "cmp('z2',dz2, z2)\n",
    "dw2 = h1.T @ dz2\n",
    "cmp('w2',dw2, w2)\n",
    "db2 = dz2.sum(axis=0, keepdim=True)\n",
    "cmp('b2',db2, b2)\n",
    "dh1 = dz2 @ w2.T\n",
    "cmp('h1',dh1, h1)\n",
    "dz1 = dsigma(z1)*dh1\n",
    "cmp('z1', dz1, z1)\n",
    "dw1 = x1.T @ dz1\n",
    "cmp('w1', dw1, w1)\n",
    "db1 = dz1.sum(axis=0, keepdim=True)\n",
    "cmp('b1', db1, b1)\n"
   ]
  },
  {
   "cell_type": "code",
   "execution_count": 41,
   "metadata": {},
   "outputs": [],
   "source": [
    "lr = 0.1\n",
    "with torch.no_grad():\n",
    "    w1 += -lr * dw1\n",
    "    b1 += -lr * db1.squeeze()\n",
    "    w2 += -lr * dw2\n",
    "    b2 += -lr * db2.squeeze()"
   ]
  },
  {
   "cell_type": "code",
   "execution_count": 42,
   "metadata": {},
   "outputs": [
    {
     "data": {
      "text/plain": [
       "43.05143356323242"
      ]
     },
     "execution_count": 42,
     "metadata": {},
     "output_type": "execute_result"
    }
   ],
   "source": [
    "l = loss(h2, y1)\n",
    "l.item()"
   ]
  },
  {
   "cell_type": "markdown",
   "metadata": {},
   "source": [
    "##### Now that we've checked our gradients are correct, we can implement the network"
   ]
  },
  {
   "cell_type": "code",
   "execution_count": 43,
   "metadata": {},
   "outputs": [],
   "source": [
    "def forward(w1, b1, w2, b2, x):\n",
    "    z1 = x @ w1 + b1\n",
    "    h1 = sigma(z1)\n",
    "    z2 = h1 @ w2 + b2\n",
    "    h2 = sigma(z2)\n",
    "    return z1, h1, z2, h2\n"
   ]
  },
  {
   "cell_type": "code",
   "execution_count": 44,
   "metadata": {},
   "outputs": [],
   "source": [
    "def backward(w1, b1, w2, b2, x1, y1, h2, z2, h1, z1):\n",
    "    dl = 1.0\n",
    "    dh2 = dloss(h2, y1)*dl\n",
    "    dz2 = dsigma(z2)*dh2\n",
    "    dw2 = h1.T @ dz2\n",
    "    db2 = dz2.sum(axis=0, keepdim=True)\n",
    "    dh1 = dz2 @ w2.T\n",
    "    dz1 = dsigma(z1)*dh1\n",
    "    dw1 = x1.T @ dz1\n",
    "    db1 = dz1.sum(axis=0, keepdim=True)\n",
    "    return dw1, db1, dw2, db2"
   ]
  },
  {
   "cell_type": "code",
   "execution_count": 45,
   "metadata": {},
   "outputs": [],
   "source": [
    "def update(w1, b1, w2, b2, dw1, db1, dw2, db2, lr):\n",
    "    with torch.no_grad():\n",
    "        w1 += -lr * dw1\n",
    "        b1 += -lr * db1.squeeze()\n",
    "        w2 += -lr * dw2\n",
    "        b2 += -lr * db2.squeeze()\n",
    "    return w1, b1, w2, b2"
   ]
  },
  {
   "cell_type": "code",
   "execution_count": 47,
   "metadata": {},
   "outputs": [],
   "source": [
    "def init():\n",
    "    \"\"\" init a network \"\"\"\n",
    "    torch.manual_seed(1337)\n",
    "    w1 = torch.randn((784, 50))\n",
    "    b1 = torch.randn((50))\n",
    "    w2 = torch.randn((50, 10))\n",
    "    b2 = torch.randn((10))\n",
    "    return w1, b1, w2, b2"
   ]
  },
  {
   "cell_type": "code",
   "execution_count": 48,
   "metadata": {},
   "outputs": [],
   "source": [
    "w1, b1, w2, b2 = init()\n",
    "parameters = [w1, b1, w2, b2]\n",
    "for p in parameters:\n",
    "    p.requires_grad_(True)"
   ]
  },
  {
   "cell_type": "code",
   "execution_count": null,
   "metadata": {},
   "outputs": [],
   "source": [
    "# main training loop\n",
    "torch.set_printoptions(linewidth=200)\n",
    "def train(w1, b1, w2, b2):\n",
    "    lossi = []\n",
    "    for step in range(10000):\n",
    "        xb = train_input\n",
    "        yb = train_target\n",
    "        num_samples = xb.shape[0]\n",
    "        # forward\n",
    "        z1, h1, z2, h2 = forward(w1, b1, w2, b2, xb)\n",
    "        lsi = loss(h2, yb)\n",
    "        # backward\n",
    "        dw1, db1, dw2, db2 = backward(w1, b1, w2, b2, xb, yb, h2, z2, h1, z1)\n",
    "        # update\n",
    "        lr = 0.1 / num_samples if step < 5000 else 0.01 / num_samples\n",
    "        w1, b1, w2, b2 = update(w1, b1, w2, b2, dw1, db1, dw2, db2, lr)\n",
    "        if step % 100 == 0: print(f'step = {step}, loss = {lsi}')\n",
    "        lossi.append(lsi.item())\n",
    "    # compute accuracy\n",
    "    _, _, _, preds = forward(w1, b1, w2, b2, train_input)\n",
    "    train_accuracy = compute_accuracy(preds, train_target)\n",
    "    _, _, _, preds = forward(w1, b1, w2, b2, test_input)\n",
    "    test_accuracy = compute_accuracy(preds, test_target)\n",
    "    print(f'{train_accuracy=}')\n",
    "    print(f'{test_accuracy=}')\n",
    "    return lossi\n",
    "    "
   ]
  },
  {
   "cell_type": "code",
   "execution_count": 50,
   "metadata": {},
   "outputs": [
    {
     "name": "stdout",
     "output_type": "stream",
     "text": [
      "step = 0, loss = 9579.4970703125\n",
      "step = 100, loss = 8354.36328125\n",
      "step = 200, loss = 7928.8896484375\n",
      "step = 300, loss = 7747.337890625\n",
      "step = 400, loss = 7509.19091796875\n",
      "step = 500, loss = 7345.33837890625\n",
      "step = 600, loss = 7159.6884765625\n",
      "step = 700, loss = 7004.125\n",
      "step = 800, loss = 6839.9365234375\n",
      "step = 900, loss = 6708.9326171875\n",
      "step = 1000, loss = 6585.35009765625\n",
      "step = 1100, loss = 6452.56689453125\n",
      "step = 1200, loss = 6309.578125\n",
      "step = 1300, loss = 6167.9443359375\n",
      "step = 1400, loss = 5904.8671875\n",
      "step = 1500, loss = 5535.41650390625\n",
      "step = 1600, loss = 5379.0654296875\n",
      "step = 1700, loss = 5163.5869140625\n",
      "step = 1800, loss = 4754.16796875\n",
      "step = 1900, loss = 4156.76416015625\n",
      "step = 2000, loss = 3227.5615234375\n",
      "step = 2100, loss = 2407.86376953125\n",
      "step = 2200, loss = 2100.87060546875\n",
      "step = 2300, loss = 2037.5179443359375\n",
      "step = 2400, loss = 1977.8067626953125\n",
      "step = 2500, loss = 1907.9957275390625\n",
      "step = 2600, loss = 1812.6607666015625\n",
      "step = 2700, loss = 1657.4249267578125\n",
      "step = 2800, loss = 1345.7623291015625\n",
      "step = 2900, loss = 1310.400634765625\n",
      "step = 3000, loss = 1258.291748046875\n",
      "step = 3100, loss = 1205.8880615234375\n",
      "step = 3200, loss = 1117.5010986328125\n",
      "step = 3300, loss = 895.0938110351562\n",
      "step = 3400, loss = 786.1693115234375\n",
      "step = 3500, loss = 761.294921875\n",
      "step = 3600, loss = 741.1377563476562\n",
      "step = 3700, loss = 720.4799194335938\n",
      "step = 3800, loss = 702.2149047851562\n",
      "step = 3900, loss = 682.11279296875\n",
      "step = 4000, loss = 656.2802734375\n",
      "step = 4100, loss = 619.4138793945312\n",
      "step = 4200, loss = 537.6251220703125\n",
      "step = 4300, loss = 362.0413818359375\n",
      "step = 4400, loss = 342.73516845703125\n",
      "step = 4500, loss = 336.873779296875\n",
      "step = 4600, loss = 333.5359191894531\n",
      "step = 4700, loss = 330.9822082519531\n",
      "step = 4800, loss = 328.7057189941406\n",
      "step = 4900, loss = 326.5218811035156\n",
      "step = 5000, loss = 324.39935302734375\n",
      "step = 5100, loss = 324.1914367675781\n",
      "step = 5200, loss = 323.9853820800781\n",
      "step = 5300, loss = 323.7789001464844\n",
      "step = 5400, loss = 323.5715026855469\n",
      "step = 5500, loss = 323.3626708984375\n",
      "step = 5600, loss = 323.1518859863281\n",
      "step = 5700, loss = 322.9385986328125\n",
      "step = 5800, loss = 322.72235107421875\n",
      "step = 5900, loss = 322.50299072265625\n",
      "step = 6000, loss = 322.2804870605469\n",
      "step = 6100, loss = 322.0549621582031\n",
      "step = 6200, loss = 321.8269348144531\n",
      "step = 6300, loss = 321.5970458984375\n",
      "step = 6400, loss = 321.36602783203125\n",
      "step = 6500, loss = 321.134521484375\n",
      "step = 6600, loss = 320.903564453125\n",
      "step = 6700, loss = 320.6739501953125\n",
      "step = 6800, loss = 320.446533203125\n",
      "step = 6900, loss = 320.221923828125\n",
      "step = 7000, loss = 320.00054931640625\n",
      "step = 7100, loss = 319.78271484375\n",
      "step = 7200, loss = 319.5684814453125\n",
      "step = 7300, loss = 319.35784912109375\n",
      "step = 7400, loss = 319.1506652832031\n",
      "step = 7500, loss = 318.9468078613281\n",
      "step = 7600, loss = 318.7458801269531\n",
      "step = 7700, loss = 318.5476379394531\n",
      "step = 7800, loss = 318.3517761230469\n",
      "step = 7900, loss = 318.1579895019531\n",
      "step = 8000, loss = 317.9659729003906\n",
      "step = 8100, loss = 317.7752990722656\n",
      "step = 8200, loss = 317.5858154296875\n",
      "step = 8300, loss = 317.3971862792969\n",
      "step = 8400, loss = 317.2093505859375\n",
      "step = 8500, loss = 317.0218505859375\n",
      "step = 8600, loss = 316.8345947265625\n",
      "step = 8700, loss = 316.6474609375\n",
      "step = 8800, loss = 316.46026611328125\n",
      "step = 8900, loss = 316.27288818359375\n",
      "step = 9000, loss = 316.0851745605469\n",
      "step = 9100, loss = 315.8970031738281\n",
      "step = 9200, loss = 315.7082214355469\n",
      "step = 9300, loss = 315.5187072753906\n",
      "step = 9400, loss = 315.3285827636719\n",
      "step = 9500, loss = 315.1378173828125\n",
      "step = 9600, loss = 314.9466857910156\n",
      "step = 9700, loss = 314.75555419921875\n",
      "step = 9800, loss = 314.5647888183594\n",
      "step = 9900, loss = 314.3748474121094\n",
      "train_accuracy=0.828000009059906\n",
      "test_accuracy=0.5849999785423279\n"
     ]
    }
   ],
   "source": [
    "lossi = train(w1, b1, w2, b2)\n"
   ]
  },
  {
   "cell_type": "code",
   "execution_count": 51,
   "metadata": {},
   "outputs": [
    {
     "data": {
      "text/plain": [
       "[<matplotlib.lines.Line2D at 0x2128c3b30d0>]"
      ]
     },
     "execution_count": 51,
     "metadata": {},
     "output_type": "execute_result"
    },
    {
     "data": {
      "image/png": "[encoded data removed]",
      "text/plain": [
       "<Figure size 640x480 with 1 Axes>"
      ]
     },
     "metadata": {},
     "output_type": "display_data"
    }
   ],
   "source": [
    "plt.plot(lossi)"
   ]
  },
  {
   "cell_type": "markdown",
   "metadata": {},
   "source": [
    "### Step 2: Reference implementation using pytorch's .backward()\n",
    "Nothing to do in Step 2, this code is provided for you as a reference"
   ]
  },
  {
   "cell_type": "code",
   "execution_count": 52,
   "metadata": {},
   "outputs": [],
   "source": [
    "w1, b1, w2, b2 = init()\n",
    "parameters = [w1, b1, w2, b2]\n",
    "for p in parameters:\n",
    "    p.requires_grad_(True)"
   ]
  },
  {
   "cell_type": "code",
   "execution_count": 53,
   "metadata": {},
   "outputs": [],
   "source": [
    "# reference code\n",
    "torch.set_printoptions(linewidth=200)\n",
    "import torch.nn as F\n",
    "\n",
    "def train(w1, b1, w2, b2):\n",
    "    lossi = []\n",
    "    for step in range(10000):\n",
    "        xb = train_input\n",
    "        yb = train_target\n",
    "        num_samples = xb.shape[0]\n",
    "        # forward\n",
    "        z1, h1, z2, h2 = forward(w1, b1, w2, b2, xb)\n",
    "        xloss = F.MSELoss()\n",
    "        lsi = xloss(h2, yb) * yb.nelement()\n",
    "        # backward\n",
    "        for p in parameters:\n",
    "            p.grad = None\n",
    "        lsi.backward()\n",
    "        # update\n",
    "        lr = 0.1 / num_samples\n",
    "        for p in parameters:\n",
    "            p.data += -lr * p.grad\n",
    "        if step % 100 == 0: print(f'step = {step}, loss = {lsi}')\n",
    "        lossi.append(lsi.item())\n",
    "    # compute accuracy\n",
    "    _, _, _, preds = forward(w1, b1, w2, b2, train_input)\n",
    "    train_accuracy = compute_accuracy(preds, train_target)\n",
    "    _, _, _, preds = forward(w1, b1, w2, b2, test_input)\n",
    "    test_accuracy = compute_accuracy(preds, test_target)\n",
    "    print(f'{train_accuracy=}')\n",
    "    print(f'{test_accuracy=}')\n",
    "    return lossi"
   ]
  },
  {
   "cell_type": "code",
   "execution_count": 54,
   "metadata": {},
   "outputs": [
    {
     "name": "stdout",
     "output_type": "stream",
     "text": [
      "step = 0, loss = 9579.4970703125\n",
      "step = 100, loss = 8330.966796875\n",
      "step = 200, loss = 7950.361328125\n",
      "step = 300, loss = 7686.9521484375\n",
      "step = 400, loss = 7498.69384765625\n",
      "step = 500, loss = 7309.0751953125\n",
      "step = 600, loss = 7151.49169921875\n",
      "step = 700, loss = 6989.42724609375\n",
      "step = 800, loss = 6855.2392578125\n",
      "step = 900, loss = 6716.21044921875\n",
      "step = 1000, loss = 6585.87353515625\n",
      "step = 1100, loss = 6469.17529296875\n",
      "step = 1200, loss = 6344.673828125\n",
      "step = 1300, loss = 6162.0732421875\n",
      "step = 1400, loss = 5893.0029296875\n",
      "step = 1500, loss = 5463.6142578125\n",
      "step = 1600, loss = 5285.91748046875\n",
      "step = 1700, loss = 5025.7880859375\n",
      "step = 1800, loss = 4523.64990234375\n",
      "step = 1900, loss = 3951.326904296875\n",
      "step = 2000, loss = 3016.418701171875\n",
      "step = 2100, loss = 2128.29541015625\n",
      "step = 2200, loss = 2076.780029296875\n",
      "step = 2300, loss = 2020.0240478515625\n",
      "step = 2400, loss = 1968.2037353515625\n",
      "step = 2500, loss = 1904.3470458984375\n",
      "step = 2600, loss = 1827.3873291015625\n",
      "step = 2700, loss = 1651.02685546875\n",
      "step = 2800, loss = 1373.71142578125\n",
      "step = 2900, loss = 1334.9422607421875\n",
      "step = 3000, loss = 1269.266845703125\n",
      "step = 3100, loss = 1192.2415771484375\n",
      "step = 3200, loss = 1066.4443359375\n",
      "step = 3300, loss = 843.0029907226562\n",
      "step = 3400, loss = 805.1755981445312\n",
      "step = 3500, loss = 783.5263061523438\n",
      "step = 3600, loss = 757.6234130859375\n",
      "step = 3700, loss = 731.8155517578125\n",
      "step = 3800, loss = 714.6809692382812\n",
      "step = 3900, loss = 699.7194213867188\n",
      "step = 4000, loss = 685.5260009765625\n",
      "step = 4100, loss = 669.1460571289062\n",
      "step = 4200, loss = 649.8408813476562\n",
      "step = 4300, loss = 623.7034912109375\n",
      "step = 4400, loss = 567.1908569335938\n",
      "step = 4500, loss = 385.1539001464844\n",
      "step = 4600, loss = 343.0327453613281\n",
      "step = 4700, loss = 337.8761901855469\n",
      "step = 4800, loss = 334.77325439453125\n",
      "step = 4900, loss = 332.270751953125\n",
      "step = 5000, loss = 330.1075134277344\n",
      "step = 5100, loss = 328.240478515625\n",
      "step = 5200, loss = 326.5318603515625\n",
      "step = 5300, loss = 324.8876953125\n",
      "step = 5400, loss = 323.2817077636719\n",
      "step = 5500, loss = 321.6810302734375\n",
      "step = 5600, loss = 320.06927490234375\n",
      "step = 5700, loss = 318.53326416015625\n",
      "step = 5800, loss = 317.070068359375\n",
      "step = 5900, loss = 315.5917053222656\n",
      "step = 6000, loss = 314.1895446777344\n",
      "step = 6100, loss = 312.9263000488281\n",
      "step = 6200, loss = 311.75933837890625\n",
      "step = 6300, loss = 310.62109375\n",
      "step = 6400, loss = 309.4532165527344\n",
      "step = 6500, loss = 308.2147216796875\n",
      "step = 6600, loss = 306.8845520019531\n",
      "step = 6700, loss = 305.606201171875\n",
      "step = 6800, loss = 304.4071350097656\n",
      "step = 6900, loss = 303.3439636230469\n",
      "step = 7000, loss = 302.3565979003906\n",
      "step = 7100, loss = 301.44561767578125\n",
      "step = 7200, loss = 300.6033630371094\n",
      "step = 7300, loss = 299.79437255859375\n",
      "step = 7400, loss = 299.02020263671875\n",
      "step = 7500, loss = 298.2566833496094\n",
      "step = 7600, loss = 297.4468994140625\n",
      "step = 7700, loss = 296.67266845703125\n",
      "step = 7800, loss = 295.88763427734375\n",
      "step = 7900, loss = 295.10699462890625\n",
      "step = 8000, loss = 294.36846923828125\n",
      "step = 8100, loss = 293.607666015625\n",
      "step = 8200, loss = 292.8212585449219\n",
      "step = 8300, loss = 292.01123046875\n",
      "step = 8400, loss = 291.175537109375\n",
      "step = 8500, loss = 290.3818359375\n",
      "step = 8600, loss = 289.6439208984375\n",
      "step = 8700, loss = 288.928466796875\n",
      "step = 8800, loss = 288.2540283203125\n",
      "step = 8900, loss = 287.6341247558594\n",
      "step = 9000, loss = 287.04730224609375\n",
      "step = 9100, loss = 286.46282958984375\n",
      "step = 9200, loss = 285.8682861328125\n",
      "step = 9300, loss = 285.2793273925781\n",
      "step = 9400, loss = 284.69256591796875\n",
      "step = 9500, loss = 284.05657958984375\n",
      "step = 9600, loss = 283.4357604980469\n",
      "step = 9700, loss = 282.8671875\n",
      "step = 9800, loss = 282.3617248535156\n",
      "step = 9900, loss = 281.8978576660156\n",
      "train_accuracy=0.8629999756813049\n",
      "test_accuracy=0.5960000157356262\n"
     ]
    }
   ],
   "source": [
    "lossi = train(w1, b1, w2, b2)"
   ]
  },
  {
   "cell_type": "code",
   "execution_count": 55,
   "metadata": {},
   "outputs": [
    {
     "data": {
      "text/plain": [
       "[<matplotlib.lines.Line2D at 0x2128c500050>]"
      ]
     },
     "execution_count": 55,
     "metadata": {},
     "output_type": "execute_result"
    },
    {
     "data": {
      "image/png": "[encoded data removed]",
      "text/plain": [
       "<Figure size 640x480 with 1 Axes>"
      ]
     },
     "metadata": {},
     "output_type": "display_data"
    }
   ],
   "source": [
    "plt.plot(lossi)"
   ]
  },
  {
   "cell_type": "markdown",
   "metadata": {},
   "source": [
    "### Step 3: Build the same MLP layer but with fully pytorch code (nn.Linear(), etc.)"
   ]
  },
  {
   "cell_type": "code",
   "execution_count": 56,
   "metadata": {},
   "outputs": [],
   "source": [
    "# network dimensions\n",
    "n_in = 784\n",
    "n_hidden = 200\n",
    "n_out = 10"
   ]
  },
  {
   "cell_type": "code",
   "execution_count": 57,
   "metadata": {},
   "outputs": [],
   "source": [
    "X_tr, Y_tr = train_input, train_target\n",
    "X_test, Y_test = test_input, test_target"
   ]
  },
  {
   "cell_type": "code",
   "execution_count": 74,
   "metadata": {},
   "outputs": [],
   "source": [
    "class MLP(nn.Module):\n",
    "\n",
    "    def __init__(self, n_in, n_hidden, n_out):\n",
    "        super().__init__()\n",
    "        self.n_in = n_in\n",
    "        self.n_hidden = n_hidden\n",
    "        self.n_out = n_out\n",
    "        self.layers = nn.ModuleList((\n",
    "            nn.Linear(self.n_in, self.n_hidden),\n",
    "            nn.Tanh(),\n",
    "            nn.Linear(self.n_hidden, self.n_out),\n",
    "            nn.Tanh()\n",
    "        ))\n",
    "\n",
    "    def __call__(self, x):\n",
    "        for layer in self.layers:\n",
    "            x = layer(x)\n",
    "        return x\n",
    "    \n",
    "    def __parameters__(self):\n",
    "        return [p for layer in self.layers for p in layer.parameters]\n",
    "\n",
    "model = MLP(n_in = 784, n_hidden = 50, n_out = 10)\n",
    "optimizer = torch.optim.AdamW(model.parameters(), lr=1e-3)\n",
    "loss_fn = nn.MSELoss()"
   ]
  },
  {
   "cell_type": "code",
   "execution_count": 75,
   "metadata": {},
   "outputs": [
    {
     "data": {
      "text/plain": [
       "(torch.Size([1000, 784]), torch.Size([1000, 10]))"
      ]
     },
     "execution_count": 75,
     "metadata": {},
     "output_type": "execute_result"
    }
   ],
   "source": [
    "X_tr.shape, Y_tr.shape"
   ]
  },
  {
   "cell_type": "code",
   "execution_count": 76,
   "metadata": {},
   "outputs": [],
   "source": [
    "y_pred = model(X_tr)"
   ]
  },
  {
   "cell_type": "code",
   "execution_count": 78,
   "metadata": {},
   "outputs": [
    {
     "name": "stdout",
     "output_type": "stream",
     "text": [
      "step =      0\tloss=0.11173\taccuracy (train, test): 0.14300\t0.20100\n",
      "step =   1000\tloss=0.00041\taccuracy (train, test): 1.00000\t0.83400\n",
      "step =   2000\tloss=0.00009\taccuracy (train, test): 1.00000\t0.82800\n",
      "step =   3000\tloss=0.00012\taccuracy (train, test): 1.00000\t0.82000\n",
      "step =   4000\tloss=0.00002\taccuracy (train, test): 1.00000\t0.81900\n",
      "step =   5000\tloss=0.00006\taccuracy (train, test): 1.00000\t0.82100\n",
      "step =   6000\tloss=0.00004\taccuracy (train, test): 1.00000\t0.81900\n",
      "step =   7000\tloss=0.00001\taccuracy (train, test): 1.00000\t0.82000\n",
      "step =   8000\tloss=0.00004\taccuracy (train, test): 1.00000\t0.81800\n",
      "step =   9000\tloss=0.00003\taccuracy (train, test): 1.00000\t0.81600\n"
     ]
    }
   ],
   "source": [
    "# training\n",
    "num_epochs = 10000\n",
    "\n",
    "for n in range(num_epochs):\n",
    "    y_pred = model(X_tr)\n",
    "    loss = loss_fn(y_pred, Y_tr)\n",
    "    optimizer.zero_grad()\n",
    "    loss.backward()\n",
    "    optimizer.step()\n",
    "    if n % 1000 == 0: \n",
    "        with torch.no_grad():\n",
    "            # train accuracy\n",
    "            acc_train = compute_accuracy(y_pred, Y_tr)\n",
    "            # test accuracy\n",
    "            y_test_preds = model(X_test)\n",
    "            acc_test = compute_accuracy(y_test_preds, Y_test)\n",
    "            print(f'step = {n:6d}\\tloss={loss.item():.5f}\\taccuracy (train, test): {acc_train:.5f}\\t{acc_test:.5f}')\n"
   ]
  },
  {
   "cell_type": "markdown",
   "metadata": {},
   "source": [
    "##### Exercise: try to improve accuracy!"
   ]
  },
  {
   "cell_type": "code",
   "execution_count": 79,
   "metadata": {},
   "outputs": [],
   "source": [
    "model = MLP(n_in = 784, n_hidden = 50, n_out = 10)\n",
    "optimizer = torch.optim.AdamW(model.parameters(), lr=1e-1)\n",
    "loss_fn = nn.MSELoss()"
   ]
  },
  {
   "cell_type": "code",
   "execution_count": 80,
   "metadata": {},
   "outputs": [
    {
     "name": "stdout",
     "output_type": "stream",
     "text": [
      "step =      0\tloss=0.12266\taccuracy (train, test): 0.12500\t0.09000\n",
      "step =   1000\tloss=1.06658\taccuracy (train, test): 0.09900\t0.11600\n",
      "step =   2000\tloss=1.03645\taccuracy (train, test): 0.09700\t0.08500\n",
      "step =   3000\tloss=1.07047\taccuracy (train, test): 0.09700\t0.08500\n",
      "step =   4000\tloss=0.96323\taccuracy (train, test): 0.11600\t0.12600\n",
      "step =   5000\tloss=0.99530\taccuracy (train, test): 0.11600\t0.12600\n",
      "step =   6000\tloss=1.12587\taccuracy (train, test): 0.09700\t0.08500\n",
      "step =   7000\tloss=1.16378\taccuracy (train, test): 0.09700\t0.08500\n",
      "step =   8000\tloss=1.00146\taccuracy (train, test): 0.11600\t0.12600\n",
      "step =   9000\tloss=1.00146\taccuracy (train, test): 0.11600\t0.12600\n"
     ]
    }
   ],
   "source": [
    "# training\n",
    "num_epochs = 10000\n",
    "\n",
    "for n in range(num_epochs):\n",
    "    y_pred = model(X_tr)\n",
    "    loss = loss_fn(y_pred, Y_tr)\n",
    "    optimizer.zero_grad()\n",
    "    loss.backward()\n",
    "    optimizer.step()\n",
    "    if n % 1000 == 0: \n",
    "        with torch.no_grad():\n",
    "            # train accuracy\n",
    "            acc_train = compute_accuracy(y_pred, Y_tr)\n",
    "            # test accuracy\n",
    "            y_test_preds = model(X_test)\n",
    "            acc_test = compute_accuracy(y_test_preds, Y_test)\n",
    "            print(f'step = {n:6d}\\tloss={loss.item():.5f}\\taccuracy (train, test): {acc_train:.5f}\\t{acc_test:.5f}')\n"
   ]
  }
 ],
 "metadata": {
  "kernelspec": {
   "display_name": "Python 3",
   "language": "python",
   "name": "python3"
  },
  "language_info": {
   "codemirror_mode": {
    "name": "ipython",
    "version": 3
   },
   "file_extension": ".py",
   "mimetype": "text/x-python",
   "name": "python",
   "nbconvert_exporter": "python",
   "pygments_lexer": "ipython3",
   "version": "3.11.9"
  }
 },
 "nbformat": 4,
 "nbformat_minor": 2
}
