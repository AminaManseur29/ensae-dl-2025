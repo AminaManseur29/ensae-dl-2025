{
 "cells": [
  {
   "cell_type": "code",
   "execution_count": 1,
   "metadata": {},
   "outputs": [],
   "source": [
    "# MNIST with an MLP, from scratch\n",
    "\n",
    "# - Step 1: build an MLP from scratch to solve MNIST. Question set: https://fleuret.org/dlc/materials/dlc-practical-3.pdf\n",
    "# - Step 2: debug your network with backprop ninja and a reference implementation using torch's .backward()\n",
    "# - Step 3: build the same MLP but will full pytorch code (nn.Linear, etc.)"
   ]
  },
  {
   "cell_type": "code",
   "execution_count": 1,
   "metadata": {},
   "outputs": [],
   "source": [
    "import math\n",
    "import torch\n",
    "from torch import nn\n",
    "import matplotlib.pyplot as plt\n",
    "%matplotlib inline"
   ]
  },
  {
   "cell_type": "code",
   "execution_count": 2,
   "metadata": {},
   "outputs": [],
   "source": [
    "from utils import load_data"
   ]
  },
  {
   "cell_type": "code",
   "execution_count": 3,
   "metadata": {},
   "outputs": [
    {
     "name": "stdout",
     "output_type": "stream",
     "text": [
      "* Using MNIST\n",
      "** Reduce the data-set (use --full for the full thing)\n",
      "** Use 1000 train and 1000 test samples\n"
     ]
    }
   ],
   "source": [
    "train_input, train_target, test_input, test_target = load_data(one_hot_labels = True, normalize = True)"
   ]
  },
  {
   "cell_type": "code",
   "execution_count": 4,
   "metadata": {},
   "outputs": [
    {
     "data": {
      "text/plain": [
       "<matplotlib.image.AxesImage at 0x225c4411210>"
      ]
     },
     "execution_count": 4,
     "metadata": {},
     "output_type": "execute_result"
    },
    {
     "data": {
      "image/png": "[encoded data removed]",
      "text/plain": [
       "<Figure size 640x480 with 1 Axes>"
      ]
     },
     "metadata": {},
     "output_type": "display_data"
    }
   ],
   "source": [
    "plt.imshow(train_input[4].view((28,28)))"
   ]
  },
  {
   "cell_type": "code",
   "execution_count": 5,
   "metadata": {},
   "outputs": [],
   "source": [
    "def compute_accuracy (preds, targets):\n",
    "    \"\"\" Computes the accuracy between predictions and targets. Data is expected to be one-hot encoded. \"\"\"\n",
    "    _, idx1 = torch.max(preds, dim=1)\n",
    "    _, idx2 = torch.max(targets, dim=1)\n",
    "    d = idx1 == idx2\n",
    "    return d.int().float().mean().item()"
   ]
  },
  {
   "cell_type": "code",
   "execution_count": 6,
   "metadata": {},
   "outputs": [
    {
     "data": {
      "text/plain": [
       "0.75"
      ]
     },
     "execution_count": 6,
     "metadata": {},
     "output_type": "execute_result"
    }
   ],
   "source": [
    "# unit test\n",
    "# this cell should return 0.75\n",
    "preds = torch.zeros((4,7))\n",
    "preds[0,1] = 1\n",
    "preds[1,4] = 1\n",
    "preds[2,2] = 1\n",
    "preds[3,6] = 1\n",
    "targets = torch.zeros((4,7))\n",
    "targets[0,1] = 1\n",
    "targets[1,4] = 1\n",
    "targets[2,2] = 1\n",
    "targets[3,2] = 1\n",
    "compute_accuracy(preds, targets)"
   ]
  },
  {
   "cell_type": "code",
   "execution_count": 7,
   "metadata": {},
   "outputs": [],
   "source": [
    "def sigma(x):\n",
    "    return torch.tanh(x)\n",
    "\n",
    "def dsigma(x):\n",
    "    return 1 - torch.pow(sigma(x), 2)"
   ]
  },
  {
   "cell_type": "code",
   "execution_count": 8,
   "metadata": {},
   "outputs": [],
   "source": [
    "def loss (v,t):\n",
    "    return torch.sum(torch.pow(v-t, 2))\n",
    "\n",
    "def dloss(v,t):\n",
    "    return -2 * (t - v)"
   ]
  },
  {
   "cell_type": "code",
   "execution_count": 9,
   "metadata": {},
   "outputs": [
    {
     "data": {
      "text/plain": [
       "tensor([[-1.5787, -0.9364,  3.6656,  0.7376, -1.5734,  2.3179],\n",
       "        [-2.0180,  1.5956,  0.2792, -2.0212,  2.1317, -0.4389],\n",
       "        [-3.9487,  3.3172,  2.7199, -0.5366, -1.0881, -0.2018]])"
      ]
     },
     "execution_count": 9,
     "metadata": {},
     "output_type": "execute_result"
    }
   ],
   "source": [
    "# sanity check\n",
    "v = torch.randn((3, 6), dtype=torch.float32)\n",
    "t = torch.randn((3, 6), dtype=torch.float32)\n",
    "l=loss(v,t)\n",
    "dloss(v,t)"
   ]
  },
  {
   "cell_type": "code",
   "execution_count": 10,
   "metadata": {},
   "outputs": [],
   "source": [
    "# multiply targets by 0.9 to be in the range of tanh\n",
    "train_target *= 0.9\n",
    "test_target *= 0.9"
   ]
  },
  {
   "cell_type": "markdown",
   "metadata": {},
   "source": [
    "### Step 1: Backprop ninja"
   ]
  },
  {
   "cell_type": "code",
   "execution_count": 11,
   "metadata": {},
   "outputs": [],
   "source": [
    "# utility function we will use later when comparing manual gradients to PyTorch gradients\n",
    "# DO NOT MODIFY IT\n",
    "#\n",
    "def cmp(s, dt, t):\n",
    "  ex = torch.all(dt == t.grad).item()\n",
    "  app = torch.allclose(dt, t.grad)\n",
    "  maxdiff = (dt - t.grad).abs().max().item()\n",
    "  print(f'{s:15s} | exact: {str(ex):5s} | approximate: {str(app):5s} | maxdiff: {maxdiff}')"
   ]
  },
  {
   "cell_type": "code",
   "execution_count": 12,
   "metadata": {},
   "outputs": [],
   "source": [
    "torch.manual_seed(1337)\n",
    "w1 = torch.randn((784, 50))\n",
    "b1 = torch.randn((50))\n",
    "w2 = torch.randn((50, 10))\n",
    "b2 = torch.randn((10))\n",
    "parameters = [w1, b1, w2, b2]\n",
    "for p in parameters:\n",
    "    p.requires_grad = True"
   ]
  },
  {
   "cell_type": "code",
   "execution_count": 13,
   "metadata": {},
   "outputs": [
    {
     "data": {
      "text/plain": [
       "(torch.Size([5, 10]), tensor(43.2825, grad_fn=<SumBackward0>))"
      ]
     },
     "execution_count": 13,
     "metadata": {},
     "output_type": "execute_result"
    }
   ],
   "source": [
    "x1 = train_input[:5]\n",
    "y1 = train_target[:5]\n",
    "z1 = x1@w1 + b1\n",
    "h1 = sigma(z1)\n",
    "z2 = h1@w2 + b2\n",
    "h2 = sigma(z2)\n",
    "l = loss(h2, y1)\n",
    "h2.shape, l"
   ]
  },
  {
   "cell_type": "code",
   "execution_count": 14,
   "metadata": {},
   "outputs": [
    {
     "name": "stdout",
     "output_type": "stream",
     "text": [
      "loss=43.28252410888672\n"
     ]
    }
   ],
   "source": [
    "# Force pytorch to retain grade for intermediate nodes and reset grad for parameters\n",
    "# DO NOT MODIFY THIS CODE\n",
    "#\n",
    "others = [h2,z2,h1,z1]\n",
    "for p in parameters:\n",
    "    p.grad = None\n",
    "for t in others:\n",
    "    t.retain_grad()\n",
    "l.backward()\n",
    "print(f'loss={l}')"
   ]
  },
  {
   "cell_type": "code",
   "execution_count": 15,
   "metadata": {},
   "outputs": [
    {
     "data": {
      "text/plain": [
       "torch.Size([10])"
      ]
     },
     "execution_count": 15,
     "metadata": {},
     "output_type": "execute_result"
    }
   ],
   "source": [
    "b2.grad.shape"
   ]
  },
  {
   "cell_type": "code",
   "execution_count": 16,
   "metadata": {},
   "outputs": [
    {
     "name": "stdout",
     "output_type": "stream",
     "text": [
      "h2              | exact: True  | approximate: True  | maxdiff: 0.0\n",
      "z2              | exact: True  | approximate: True  | maxdiff: 0.0\n",
      "w2              | exact: True  | approximate: True  | maxdiff: 0.0\n",
      "b2              | exact: True  | approximate: True  | maxdiff: 0.0\n",
      "h1              | exact: True  | approximate: True  | maxdiff: 0.0\n",
      "z1              | exact: True  | approximate: True  | maxdiff: 0.0\n",
      "w1              | exact: True  | approximate: True  | maxdiff: 0.0\n",
      "b1              | exact: True  | approximate: True  | maxdiff: 0.0\n"
     ]
    }
   ],
   "source": [
    "# here we compare our gradient to the reference gradient computed by pytorch\n",
    "dl = 1.0\n",
    "dh2 = dloss(h2, y1)*dl\n",
    "cmp('h2',dh2,h2)\n",
    "dz2 = dsigma(z2)*dh2\n",
    "cmp('z2',dz2, z2)\n",
    "dw2 = h1.T @ dz2\n",
    "cmp('w2',dw2, w2)\n",
    "db2 = dz2.sum(axis=0, keepdim=True)\n",
    "cmp('b2',db2, b2)\n",
    "dh1 = dz2 @ w2.T\n",
    "cmp('h1',dh1, h1)\n",
    "dz1 = dsigma(z1)*dh1\n",
    "cmp('z1', dz1, z1)\n",
    "dw1 = x1.T @ dz1\n",
    "cmp('w1', dw1, w1)\n",
    "db1 = dz1.sum(axis=0, keepdim=True)\n",
    "cmp('b1', db1, b1)\n"
   ]
  },
  {
   "cell_type": "code",
   "execution_count": 17,
   "metadata": {},
   "outputs": [],
   "source": [
    "lr = 0.1\n",
    "with torch.no_grad():\n",
    "    w1 += -lr * dw1\n",
    "    b1 += -lr * db1.squeeze()\n",
    "    w2 += -lr * dw2\n",
    "    b2 += -lr * db2.squeeze()"
   ]
  },
  {
   "cell_type": "code",
   "execution_count": 18,
   "metadata": {},
   "outputs": [
    {
     "data": {
      "text/plain": [
       "43.28252410888672"
      ]
     },
     "execution_count": 18,
     "metadata": {},
     "output_type": "execute_result"
    }
   ],
   "source": [
    "l = loss(h2, y1)\n",
    "l.item()"
   ]
  },
  {
   "cell_type": "markdown",
   "metadata": {},
   "source": [
    "##### Now that we've checked our gradients are correct, we can implement the network"
   ]
  },
  {
   "cell_type": "code",
   "execution_count": null,
   "metadata": {},
   "outputs": [],
   "source": [
    "def forward(w1, b1, w2, b2, x):\n",
    "    z1 = x @ w1 + b1\n",
    "    h1 = sigma(z1)\n",
    "    z2 = h1 @ w2 + b2\n",
    "    h2 = sigma(z2)\n",
    "    return z1, h1, z2, h2\n"
   ]
  },
  {
   "cell_type": "code",
   "execution_count": 20,
   "metadata": {},
   "outputs": [],
   "source": [
    "def backward(w1, b1, w2, b2, x1, y1, h2, z2, h1, z1):\n",
    "    dl = 1.0\n",
    "    dh2 = dloss(h2, y1)*dl\n",
    "    dz2 = dsigma(z2)*dh2\n",
    "    dw2 = h1.T @ dz2\n",
    "    db2 = dz2.sum(axis=0, keepdim=True)\n",
    "    dh1 = dz2 @ w2.T\n",
    "    dz1 = dsigma(z1)*dh1\n",
    "    dw1 = x1.T @ dz1\n",
    "    db1 = dz1.sum(axis=0, keepdim=True)\n",
    "    return dw1, db1, dw2, db2"
   ]
  },
  {
   "cell_type": "code",
   "execution_count": 21,
   "metadata": {},
   "outputs": [],
   "source": [
    "def update(w1, b1, w2, b2, dw1, db1, dw2, db2, lr):\n",
    "    with torch.no_grad():\n",
    "        w1 += -lr * dw1\n",
    "        b1 += -lr * db1.squeeze()\n",
    "        w2 += -lr * dw2\n",
    "        b2 += -lr * db2.squeeze()\n",
    "    return w1, b1, w2, b2"
   ]
  },
  {
   "cell_type": "code",
   "execution_count": 22,
   "metadata": {},
   "outputs": [],
   "source": [
    "def init():\n",
    "    \"\"\" init a network \"\"\"\n",
    "    torch.manual_seed(1337)\n",
    "    w1 = torch.randn((784, 50))\n",
    "    b1 = torch.randn((50))\n",
    "    w2 = torch.randn((50, 10))\n",
    "    b2 = torch.randn((10))\n",
    "    return w1, b1, w2, b2"
   ]
  },
  {
   "cell_type": "code",
   "execution_count": 23,
   "metadata": {},
   "outputs": [],
   "source": [
    "w1, b1, w2, b2 = init()\n",
    "parameters = [w1, b1, w2, b2]\n",
    "for p in parameters:\n",
    "    p.requires_grad_(True)"
   ]
  },
  {
   "cell_type": "code",
   "execution_count": 24,
   "metadata": {},
   "outputs": [],
   "source": [
    "# main training loop\n",
    "torch.set_printoptions(linewidth=200)\n",
    "def train(w1, b1, w2, b2):\n",
    "    lossi = []\n",
    "    for step in range(10000):\n",
    "        xb = train_input\n",
    "        yb = train_target\n",
    "        num_samples = xb.shape[0]\n",
    "        # forward\n",
    "        z1, h1, z2, h2 = forward(w1, b1, w2, b2, xb)\n",
    "        lsi = loss(h2, yb)\n",
    "        # backward\n",
    "        dw1, db1, dw2, db2 = backward(w1, b1, w2, b2, xb, yb, h2, z2, h1, z1)\n",
    "        # update\n",
    "        lr = 0.1 / num_samples if step < 5000 else 0.01 / num_samples\n",
    "        w1, b1, w2, b2 = update(w1, b1, w2, b2, dw1, db1, dw2, db2, lr)\n",
    "        if step % 100 == 0: print(f'step = {step}, loss = {lsi}')\n",
    "        lossi.append(lsi.item())\n",
    "    # compute accuracy\n",
    "    _, _, _, preds = forward(w1, b1, w2, b2, train_input)\n",
    "    train_accuracy = compute_accuracy(preds, train_target)\n",
    "    _, _, _, preds = forward(w1, b1, w2, b2, test_input)\n",
    "    test_accuracy = compute_accuracy(preds, test_target)\n",
    "    print(f'{train_accuracy=}')\n",
    "    print(f'{test_accuracy=}')\n",
    "    return lossi\n",
    "    "
   ]
  },
  {
   "cell_type": "code",
   "execution_count": 25,
   "metadata": {},
   "outputs": [
    {
     "name": "stdout",
     "output_type": "stream",
     "text": [
      "step = 0, loss = 9739.25390625\n",
      "step = 100, loss = 8378.8603515625\n",
      "step = 200, loss = 7969.4765625\n",
      "step = 300, loss = 7732.75830078125\n",
      "step = 400, loss = 7516.67236328125\n",
      "step = 500, loss = 7350.58740234375\n",
      "step = 600, loss = 7158.3310546875\n",
      "step = 700, loss = 7018.76171875\n",
      "step = 800, loss = 6871.544921875\n",
      "step = 900, loss = 6743.244140625\n",
      "step = 1000, loss = 6618.8232421875\n",
      "step = 1100, loss = 6478.99267578125\n",
      "step = 1200, loss = 6340.7646484375\n",
      "step = 1300, loss = 6193.2763671875\n",
      "step = 1400, loss = 5956.68505859375\n",
      "step = 1500, loss = 5526.3896484375\n",
      "step = 1600, loss = 5326.87841796875\n",
      "step = 1700, loss = 5044.02392578125\n",
      "step = 1800, loss = 4533.06494140625\n",
      "step = 1900, loss = 3999.675048828125\n",
      "step = 2000, loss = 3202.3828125\n",
      "step = 2100, loss = 2254.830078125\n",
      "step = 2200, loss = 2160.728515625\n",
      "step = 2300, loss = 2102.804931640625\n",
      "step = 2400, loss = 2041.9456787109375\n",
      "step = 2500, loss = 1975.2200927734375\n",
      "step = 2600, loss = 1879.4619140625\n",
      "step = 2700, loss = 1698.953369140625\n",
      "step = 2800, loss = 1390.988525390625\n",
      "step = 2900, loss = 1338.6392822265625\n",
      "step = 3000, loss = 1202.578125\n",
      "step = 3100, loss = 940.9425659179688\n",
      "step = 3200, loss = 920.2731323242188\n",
      "step = 3300, loss = 900.806884765625\n",
      "step = 3400, loss = 882.7625122070312\n",
      "step = 3500, loss = 866.7138061523438\n",
      "step = 3600, loss = 850.0997314453125\n",
      "step = 3700, loss = 834.885986328125\n",
      "step = 3800, loss = 821.5317993164062\n",
      "step = 3900, loss = 809.3276977539062\n",
      "step = 4000, loss = 795.3079833984375\n",
      "step = 4100, loss = 776.7548828125\n",
      "step = 4200, loss = 750.5711059570312\n",
      "step = 4300, loss = 727.1563720703125\n",
      "step = 4400, loss = 699.3463745117188\n",
      "step = 4500, loss = 664.4820556640625\n",
      "step = 4600, loss = 601.1219482421875\n",
      "step = 4700, loss = 455.57940673828125\n",
      "step = 4800, loss = 423.38116455078125\n",
      "step = 4900, loss = 414.6617736816406\n",
      "step = 5000, loss = 409.947021484375\n",
      "step = 5100, loss = 408.1168518066406\n",
      "step = 5200, loss = 407.861083984375\n",
      "step = 5300, loss = 407.60955810546875\n",
      "step = 5400, loss = 407.3622131347656\n",
      "step = 5500, loss = 407.11865234375\n",
      "step = 5600, loss = 406.8788146972656\n",
      "step = 5700, loss = 406.6426086425781\n",
      "step = 5800, loss = 406.4097900390625\n",
      "step = 5900, loss = 406.1802062988281\n",
      "step = 6000, loss = 405.9537658691406\n",
      "step = 6100, loss = 405.7300109863281\n",
      "step = 6200, loss = 405.5091247558594\n",
      "step = 6300, loss = 405.2907409667969\n",
      "step = 6400, loss = 405.07470703125\n",
      "step = 6500, loss = 404.8608093261719\n",
      "step = 6600, loss = 404.6488037109375\n",
      "step = 6700, loss = 404.43853759765625\n",
      "step = 6800, loss = 404.2298278808594\n",
      "step = 6900, loss = 404.0224609375\n",
      "step = 7000, loss = 403.81640625\n",
      "step = 7100, loss = 403.6114196777344\n",
      "step = 7200, loss = 403.4073791503906\n",
      "step = 7300, loss = 403.2040710449219\n",
      "step = 7400, loss = 403.0014343261719\n",
      "step = 7500, loss = 402.7994689941406\n",
      "step = 7600, loss = 402.5979309082031\n",
      "step = 7700, loss = 402.3968505859375\n",
      "step = 7800, loss = 402.196044921875\n",
      "step = 7900, loss = 401.99554443359375\n",
      "step = 8000, loss = 401.795166015625\n",
      "step = 8100, loss = 401.5950012207031\n",
      "step = 8200, loss = 401.3949279785156\n",
      "step = 8300, loss = 401.1949768066406\n",
      "step = 8400, loss = 400.9951477050781\n",
      "step = 8500, loss = 400.7955017089844\n",
      "step = 8600, loss = 400.5959167480469\n",
      "step = 8700, loss = 400.3965759277344\n",
      "step = 8800, loss = 400.19744873046875\n",
      "step = 8900, loss = 399.9984436035156\n",
      "step = 9000, loss = 399.7995300292969\n",
      "step = 9100, loss = 399.60076904296875\n",
      "step = 9200, loss = 399.4020690917969\n",
      "step = 9300, loss = 399.2034606933594\n",
      "step = 9400, loss = 399.00482177734375\n",
      "step = 9500, loss = 398.80615234375\n",
      "step = 9600, loss = 398.6072998046875\n",
      "step = 9700, loss = 398.408203125\n",
      "step = 9800, loss = 398.20880126953125\n",
      "step = 9900, loss = 398.00909423828125\n",
      "train_accuracy=0.8240000009536743\n",
      "test_accuracy=0.5899999737739563\n"
     ]
    }
   ],
   "source": [
    "lossi = train(w1, b1, w2, b2)\n"
   ]
  },
  {
   "cell_type": "code",
   "execution_count": 26,
   "metadata": {},
   "outputs": [
    {
     "data": {
      "text/plain": [
       "[<matplotlib.lines.Line2D at 0x225c4f22610>]"
      ]
     },
     "execution_count": 26,
     "metadata": {},
     "output_type": "execute_result"
    },
    {
     "data": {
      "image/png": "[encoded data removed]",
      "text/plain": [
       "<Figure size 640x480 with 1 Axes>"
      ]
     },
     "metadata": {},
     "output_type": "display_data"
    }
   ],
   "source": [
    "plt.plot(lossi)"
   ]
  },
  {
   "cell_type": "markdown",
   "metadata": {},
   "source": [
    "### Step 2: Reference implementation using pytorch's .backward()\n",
    "Nothing to do in Step 2, this code is provided for you as a reference"
   ]
  },
  {
   "cell_type": "code",
   "execution_count": 27,
   "metadata": {},
   "outputs": [],
   "source": [
    "w1, b1, w2, b2 = init()\n",
    "parameters = [w1, b1, w2, b2]\n",
    "for p in parameters:\n",
    "    p.requires_grad_(True)"
   ]
  },
  {
   "cell_type": "code",
   "execution_count": 28,
   "metadata": {},
   "outputs": [],
   "source": [
    "# reference code\n",
    "torch.set_printoptions(linewidth=200)\n",
    "import torch.nn as F\n",
    "\n",
    "def train(w1, b1, w2, b2):\n",
    "    lossi = []\n",
    "    for step in range(10000):\n",
    "        xb = train_input\n",
    "        yb = train_target\n",
    "        num_samples = xb.shape[0]\n",
    "        # forward\n",
    "        z1, h1, z2, h2 = forward(w1, b1, w2, b2, xb)\n",
    "        xloss = F.MSELoss()\n",
    "        lsi = xloss(h2, yb) * yb.nelement()\n",
    "        # backward\n",
    "        for p in parameters:\n",
    "            p.grad = None\n",
    "        lsi.backward()\n",
    "        # update\n",
    "        lr = 0.1 / num_samples\n",
    "        for p in parameters:\n",
    "            p.data += -lr * p.grad\n",
    "        if step % 100 == 0: print(f'step = {step}, loss = {lsi}')\n",
    "        lossi.append(lsi.item())\n",
    "    # compute accuracy\n",
    "    _, _, _, preds = forward(w1, b1, w2, b2, train_input)\n",
    "    train_accuracy = compute_accuracy(preds, train_target)\n",
    "    _, _, _, preds = forward(w1, b1, w2, b2, test_input)\n",
    "    test_accuracy = compute_accuracy(preds, test_target)\n",
    "    print(f'{train_accuracy=}')\n",
    "    print(f'{test_accuracy=}')\n",
    "    return lossi"
   ]
  },
  {
   "cell_type": "code",
   "execution_count": 29,
   "metadata": {},
   "outputs": [
    {
     "name": "stdout",
     "output_type": "stream",
     "text": [
      "step = 0, loss = 9739.25390625\n",
      "step = 100, loss = 8368.6396484375\n",
      "step = 200, loss = 7992.68701171875\n",
      "step = 300, loss = 7720.29638671875\n",
      "step = 400, loss = 7503.93310546875\n",
      "step = 500, loss = 7352.43994140625\n",
      "step = 600, loss = 7179.36376953125\n",
      "step = 700, loss = 7036.6962890625\n",
      "step = 800, loss = 6904.39208984375\n",
      "step = 900, loss = 6768.669921875\n",
      "step = 1000, loss = 6660.0673828125\n",
      "step = 1100, loss = 6549.5\n",
      "step = 1200, loss = 6418.8115234375\n",
      "step = 1300, loss = 6258.0869140625\n",
      "step = 1400, loss = 6024.8515625\n",
      "step = 1500, loss = 5575.2978515625\n",
      "step = 1600, loss = 5364.59765625\n",
      "step = 1700, loss = 5095.408203125\n",
      "step = 1800, loss = 4635.765625\n",
      "step = 1900, loss = 4120.9599609375\n",
      "step = 2000, loss = 3448.3359375\n",
      "step = 2100, loss = 2568.770751953125\n",
      "step = 2200, loss = 2158.4833984375\n",
      "step = 2300, loss = 2116.86669921875\n",
      "step = 2400, loss = 2059.064453125\n",
      "step = 2500, loss = 1980.979248046875\n",
      "step = 2600, loss = 1891.409423828125\n",
      "step = 2700, loss = 1750.2545166015625\n",
      "step = 2800, loss = 1381.51318359375\n",
      "step = 2900, loss = 1302.1201171875\n",
      "step = 3000, loss = 1193.171630859375\n",
      "step = 3100, loss = 958.3279418945312\n",
      "step = 3200, loss = 913.3738403320312\n",
      "step = 3300, loss = 879.2062377929688\n",
      "step = 3400, loss = 860.0853271484375\n",
      "step = 3500, loss = 848.4304809570312\n",
      "step = 3600, loss = 839.7960205078125\n",
      "step = 3700, loss = 828.5515747070312\n",
      "step = 3800, loss = 815.9716186523438\n",
      "step = 3900, loss = 800.6820068359375\n",
      "step = 4000, loss = 788.4972534179688\n",
      "step = 4100, loss = 777.0404663085938\n",
      "step = 4200, loss = 763.3594970703125\n",
      "step = 4300, loss = 749.8787231445312\n",
      "step = 4400, loss = 735.1650390625\n",
      "step = 4500, loss = 713.2142333984375\n",
      "step = 4600, loss = 672.8694458007812\n",
      "step = 4700, loss = 581.3194580078125\n",
      "step = 4800, loss = 433.2962646484375\n",
      "step = 4900, loss = 417.7125244140625\n",
      "step = 5000, loss = 413.27471923828125\n",
      "step = 5100, loss = 410.3175964355469\n",
      "step = 5200, loss = 407.75396728515625\n",
      "step = 5300, loss = 405.3391418457031\n",
      "step = 5400, loss = 402.7843017578125\n",
      "step = 5500, loss = 400.2506408691406\n",
      "step = 5600, loss = 397.9172668457031\n",
      "step = 5700, loss = 395.7304382324219\n",
      "step = 5800, loss = 393.5703125\n",
      "step = 5900, loss = 391.23681640625\n",
      "step = 6000, loss = 388.66571044921875\n",
      "step = 6100, loss = 386.5531005859375\n",
      "step = 6200, loss = 384.72601318359375\n",
      "step = 6300, loss = 383.0723876953125\n",
      "step = 6400, loss = 381.58477783203125\n",
      "step = 6500, loss = 380.1479797363281\n",
      "step = 6600, loss = 378.4463806152344\n",
      "step = 6700, loss = 376.5823974609375\n",
      "step = 6800, loss = 374.7453308105469\n",
      "step = 6900, loss = 373.063720703125\n",
      "step = 7000, loss = 371.4705505371094\n",
      "step = 7100, loss = 370.0395812988281\n",
      "step = 7200, loss = 368.7829284667969\n",
      "step = 7300, loss = 367.6322021484375\n",
      "step = 7400, loss = 366.4996337890625\n",
      "step = 7500, loss = 365.3518981933594\n",
      "step = 7600, loss = 364.1800537109375\n",
      "step = 7700, loss = 363.03265380859375\n",
      "step = 7800, loss = 361.8948974609375\n",
      "step = 7900, loss = 360.8462219238281\n",
      "step = 8000, loss = 359.9231262207031\n",
      "step = 8100, loss = 359.0537109375\n",
      "step = 8200, loss = 358.18634033203125\n",
      "step = 8300, loss = 357.28106689453125\n",
      "step = 8400, loss = 356.3276062011719\n",
      "step = 8500, loss = 355.4635925292969\n",
      "step = 8600, loss = 354.63214111328125\n",
      "step = 8700, loss = 353.8135070800781\n",
      "step = 8800, loss = 352.9992980957031\n",
      "step = 8900, loss = 352.2085266113281\n",
      "step = 9000, loss = 351.4079895019531\n",
      "step = 9100, loss = 350.5335693359375\n",
      "step = 9200, loss = 349.52069091796875\n",
      "step = 9300, loss = 348.4715881347656\n",
      "step = 9400, loss = 347.4921875\n",
      "step = 9500, loss = 346.6770935058594\n",
      "step = 9600, loss = 345.8746032714844\n",
      "step = 9700, loss = 345.0944519042969\n",
      "step = 9800, loss = 344.3463439941406\n",
      "step = 9900, loss = 343.6240539550781\n",
      "train_accuracy=0.8709999918937683\n",
      "test_accuracy=0.597000002861023\n"
     ]
    }
   ],
   "source": [
    "lossi = train(w1, b1, w2, b2)"
   ]
  },
  {
   "cell_type": "code",
   "execution_count": 30,
   "metadata": {},
   "outputs": [
    {
     "data": {
      "text/plain": [
       "[<matplotlib.lines.Line2D at 0x225c4ffb8d0>]"
      ]
     },
     "execution_count": 30,
     "metadata": {},
     "output_type": "execute_result"
    },
    {
     "data": {
      "image/png": "[encoded data removed]",
      "text/plain": [
       "<Figure size 640x480 with 1 Axes>"
      ]
     },
     "metadata": {},
     "output_type": "display_data"
    }
   ],
   "source": [
    "plt.plot(lossi)"
   ]
  },
  {
   "cell_type": "markdown",
   "metadata": {},
   "source": [
    "### Step 3: Build the same MLP layer but with fully pytorch code (nn.Linear(), etc.)"
   ]
  },
  {
   "cell_type": "code",
   "execution_count": 31,
   "metadata": {},
   "outputs": [],
   "source": [
    "# network dimensions\n",
    "n_in = 784\n",
    "n_hidden = 200\n",
    "n_out = 10"
   ]
  },
  {
   "cell_type": "code",
   "execution_count": 32,
   "metadata": {},
   "outputs": [],
   "source": [
    "X_tr, Y_tr = train_input, train_target\n",
    "X_test, Y_test = test_input, test_target"
   ]
  },
  {
   "cell_type": "code",
   "execution_count": 33,
   "metadata": {},
   "outputs": [],
   "source": [
    "class MLP(nn.Module):\n",
    "\n",
    "    def __init__(self, n_in, n_hidden, n_out):\n",
    "        super().__init__()\n",
    "        self.n_in = n_in\n",
    "        self.n_hidden = n_hidden\n",
    "        self.n_out = n_out\n",
    "        self.layers = nn.ModuleList((\n",
    "            nn.Linear(self.n_in, self.n_hidden),\n",
    "            nn.Tanh(),\n",
    "            nn.Linear(self.n_hidden, self.n_out),\n",
    "            nn.Tanh()\n",
    "        ))\n",
    "\n",
    "    def __call__(self, x):\n",
    "        for layer in self.layers:\n",
    "            x = layer(x)\n",
    "        return x\n",
    "    \n",
    "    def __parameters__(self):\n",
    "        return [p for layer in self.layers for p in layer.parameters]\n",
    "\n",
    "model = MLP(n_in = 784, n_hidden = 50, n_out = 10)\n",
    "optimizer = torch.optim.AdamW(model.parameters(), lr=1e-3)\n",
    "loss_fn = nn.MSELoss()"
   ]
  },
  {
   "cell_type": "code",
   "execution_count": 34,
   "metadata": {},
   "outputs": [
    {
     "data": {
      "text/plain": [
       "(torch.Size([1000, 784]), torch.Size([1000, 10]))"
      ]
     },
     "execution_count": 34,
     "metadata": {},
     "output_type": "execute_result"
    }
   ],
   "source": [
    "X_tr.shape, Y_tr.shape"
   ]
  },
  {
   "cell_type": "code",
   "execution_count": 35,
   "metadata": {},
   "outputs": [],
   "source": [
    "y_pred = model(X_tr)"
   ]
  },
  {
   "cell_type": "code",
   "execution_count": 36,
   "metadata": {},
   "outputs": [
    {
     "name": "stdout",
     "output_type": "stream",
     "text": [
      "step =      0\tloss=0.14834\taccuracy (train, test): 0.10300\t0.19700\n",
      "step =   1000\tloss=0.00064\taccuracy (train, test): 1.00000\t0.84700\n",
      "step =   2000\tloss=0.00016\taccuracy (train, test): 1.00000\t0.83400\n",
      "step =   3000\tloss=0.00019\taccuracy (train, test): 1.00000\t0.82500\n",
      "step =   4000\tloss=0.00004\taccuracy (train, test): 1.00000\t0.81900\n",
      "step =   5000\tloss=0.00003\taccuracy (train, test): 1.00000\t0.81900\n",
      "step =   6000\tloss=0.00003\taccuracy (train, test): 1.00000\t0.81800\n",
      "step =   7000\tloss=0.00002\taccuracy (train, test): 1.00000\t0.82200\n",
      "step =   8000\tloss=0.00009\taccuracy (train, test): 1.00000\t0.82300\n",
      "step =   9000\tloss=0.00010\taccuracy (train, test): 1.00000\t0.82100\n"
     ]
    }
   ],
   "source": [
    "# training\n",
    "num_epochs = 10000\n",
    "\n",
    "for n in range(num_epochs):\n",
    "    y_pred = model(X_tr)\n",
    "    loss = loss_fn(y_pred, Y_tr)\n",
    "    optimizer.zero_grad()\n",
    "    loss.backward()\n",
    "    optimizer.step()\n",
    "    if n % 1000 == 0: \n",
    "        with torch.no_grad():\n",
    "            # train accuracy\n",
    "            acc_train = compute_accuracy(y_pred, Y_tr)\n",
    "            # test accuracy\n",
    "            y_test_preds = model(X_test)\n",
    "            acc_test = compute_accuracy(y_test_preds, Y_test)\n",
    "            print(f'step = {n:6d}\\tloss={loss.item():.5f}\\taccuracy (train, test): {acc_train:.5f}\\t{acc_test:.5f}')\n"
   ]
  },
  {
   "cell_type": "markdown",
   "metadata": {},
   "source": [
    "On remarque qu'à la fin de l'entraînement, la précision sur l'ensemble d'entraînement est de 100% alors qu'elle est de 82,1% sur l'ensemble de test. Cela pourrait être signe d'overfitting, le modèle s'ajuste trop spécifiquement aux données d'entraînement et n'est pas capable de généraliser efficacement sur des données non vues. On va essayer d'améliorer la précision sur l'ensemble de test quitte à diminuer celle sur l'ensemble d'entraînement."
   ]
  },
  {
   "cell_type": "markdown",
   "metadata": {},
   "source": [
    "#### Exercise: try to improve accuracy!"
   ]
  },
  {
   "cell_type": "markdown",
   "metadata": {},
   "source": [
    "##### On va d'abord essayer d'augmenter le taux d'apprentissage 1e-3 -> 1e-1 ou 1e-2"
   ]
  },
  {
   "cell_type": "code",
   "execution_count": 37,
   "metadata": {},
   "outputs": [],
   "source": [
    "model = MLP(n_in = 784, n_hidden = 50, n_out = 10)\n",
    "optimizer = torch.optim.AdamW(model.parameters(), lr=1e-1)\n",
    "loss_fn = nn.MSELoss()"
   ]
  },
  {
   "cell_type": "code",
   "execution_count": 38,
   "metadata": {},
   "outputs": [
    {
     "name": "stdout",
     "output_type": "stream",
     "text": [
      "step =      0\tloss=0.15288\taccuracy (train, test): 0.08000\t0.08800\n",
      "step =   1000\tloss=1.15618\taccuracy (train, test): 0.09100\t0.07900\n",
      "step =   2000\tloss=1.04284\taccuracy (train, test): 0.11600\t0.12600\n",
      "step =   3000\tloss=1.03672\taccuracy (train, test): 0.09700\t0.08500\n",
      "step =   4000\tloss=0.97876\taccuracy (train, test): 0.09700\t0.08500\n",
      "step =   5000\tloss=1.01008\taccuracy (train, test): 0.09700\t0.08500\n",
      "step =   6000\tloss=1.07272\taccuracy (train, test): 0.09700\t0.08500\n",
      "step =   7000\tloss=1.08568\taccuracy (train, test): 0.09700\t0.08500\n",
      "step =   8000\tloss=1.05004\taccuracy (train, test): 0.09700\t0.08500\n",
      "step =   9000\tloss=1.04032\taccuracy (train, test): 0.11600\t0.12600\n"
     ]
    }
   ],
   "source": [
    "# training\n",
    "num_epochs = 10000\n",
    "\n",
    "for n in range(num_epochs):\n",
    "    y_pred = model(X_tr)\n",
    "    loss = loss_fn(y_pred, Y_tr)\n",
    "    optimizer.zero_grad()\n",
    "    loss.backward()\n",
    "    optimizer.step()\n",
    "    if n % 1000 == 0: \n",
    "        with torch.no_grad():\n",
    "            # train accuracy\n",
    "            acc_train = compute_accuracy(y_pred, Y_tr)\n",
    "            # test accuracy\n",
    "            y_test_preds = model(X_test)\n",
    "            acc_test = compute_accuracy(y_test_preds, Y_test)\n",
    "            print(f'step = {n:6d}\\tloss={loss.item():.5f}\\taccuracy (train, test): {acc_train:.5f}\\t{acc_test:.5f}')\n"
   ]
  },
  {
   "cell_type": "markdown",
   "metadata": {},
   "source": [
    "Précision très faible (pour ensemble d'entraînement et de test)"
   ]
  },
  {
   "cell_type": "code",
   "execution_count": 39,
   "metadata": {},
   "outputs": [],
   "source": [
    "model = MLP(n_in = 784, n_hidden = 50, n_out = 10)\n",
    "optimizer = torch.optim.AdamW(model.parameters(), lr=1e-2)\n",
    "loss_fn = nn.MSELoss()"
   ]
  },
  {
   "cell_type": "code",
   "execution_count": 40,
   "metadata": {},
   "outputs": [
    {
     "name": "stdout",
     "output_type": "stream",
     "text": [
      "step =      0\tloss=0.14251\taccuracy (train, test): 0.12800\t0.14200\n",
      "step =   1000\tloss=0.00267\taccuracy (train, test): 0.98900\t0.75600\n",
      "step =   2000\tloss=0.00196\taccuracy (train, test): 0.99300\t0.74600\n",
      "step =   3000\tloss=0.00189\taccuracy (train, test): 0.99200\t0.74500\n",
      "step =   4000\tloss=0.00172\taccuracy (train, test): 0.99200\t0.73700\n",
      "step =   5000\tloss=0.00143\taccuracy (train, test): 0.99400\t0.73400\n",
      "step =   6000\tloss=0.00283\taccuracy (train, test): 0.98500\t0.76200\n",
      "step =   7000\tloss=0.00200\taccuracy (train, test): 0.99100\t0.76400\n",
      "step =   8000\tloss=0.00185\taccuracy (train, test): 0.99300\t0.77000\n",
      "step =   9000\tloss=0.00163\taccuracy (train, test): 0.99200\t0.77500\n"
     ]
    }
   ],
   "source": [
    "# training\n",
    "num_epochs = 10000\n",
    "\n",
    "for n in range(num_epochs):\n",
    "    y_pred = model(X_tr)\n",
    "    loss = loss_fn(y_pred, Y_tr)\n",
    "    optimizer.zero_grad()\n",
    "    loss.backward()\n",
    "    optimizer.step()\n",
    "    if n % 1000 == 0: \n",
    "        with torch.no_grad():\n",
    "            # train accuracy\n",
    "            acc_train = compute_accuracy(y_pred, Y_tr)\n",
    "            # test accuracy\n",
    "            y_test_preds = model(X_test)\n",
    "            acc_test = compute_accuracy(y_test_preds, Y_test)\n",
    "            print(f'step = {n:6d}\\tloss={loss.item():.5f}\\taccuracy (train, test): {acc_train:.5f}\\t{acc_test:.5f}')\n"
   ]
  },
  {
   "cell_type": "markdown",
   "metadata": {},
   "source": [
    "La précision a diminué aussi bien sur l'ensamble d'entraînement que sur l'ensemble de test."
   ]
  },
  {
   "cell_type": "markdown",
   "metadata": {},
   "source": [
    "##### Diminuer le nombre de neurones dans la couche cachée : 50 -> 20 ou 30"
   ]
  },
  {
   "cell_type": "code",
   "execution_count": null,
   "metadata": {},
   "outputs": [],
   "source": [
    "model = MLP(n_in = 784, n_hidden = 20, n_out = 10)\n",
    "optimizer = torch.optim.AdamW(model.parameters(), lr=1e-3)\n",
    "loss_fn = nn.MSELoss()"
   ]
  },
  {
   "cell_type": "code",
   "execution_count": 42,
   "metadata": {},
   "outputs": [
    {
     "name": "stdout",
     "output_type": "stream",
     "text": [
      "step =      0\tloss=0.18817\taccuracy (train, test): 0.05100\t0.10400\n",
      "step =   1000\tloss=0.00333\taccuracy (train, test): 0.99900\t0.82400\n",
      "step =   2000\tloss=0.00089\taccuracy (train, test): 1.00000\t0.80900\n",
      "step =   3000\tloss=0.00042\taccuracy (train, test): 1.00000\t0.79600\n",
      "step =   4000\tloss=0.00024\taccuracy (train, test): 1.00000\t0.78900\n",
      "step =   5000\tloss=0.00016\taccuracy (train, test): 1.00000\t0.79100\n",
      "step =   6000\tloss=0.00011\taccuracy (train, test): 1.00000\t0.78900\n",
      "step =   7000\tloss=0.00009\taccuracy (train, test): 1.00000\t0.78400\n",
      "step =   8000\tloss=0.00010\taccuracy (train, test): 1.00000\t0.78100\n",
      "step =   9000\tloss=0.00006\taccuracy (train, test): 1.00000\t0.78200\n"
     ]
    }
   ],
   "source": [
    "# training\n",
    "num_epochs = 10000\n",
    "\n",
    "for n in range(num_epochs):\n",
    "    y_pred = model(X_tr)\n",
    "    loss = loss_fn(y_pred, Y_tr)\n",
    "    optimizer.zero_grad()\n",
    "    loss.backward()\n",
    "    optimizer.step()\n",
    "    if n % 1000 == 0: \n",
    "        with torch.no_grad():\n",
    "            # train accuracy\n",
    "            acc_train = compute_accuracy(y_pred, Y_tr)\n",
    "            # test accuracy\n",
    "            y_test_preds = model(X_test)\n",
    "            acc_test = compute_accuracy(y_test_preds, Y_test)\n",
    "            print(f'step = {n:6d}\\tloss={loss.item():.5f}\\taccuracy (train, test): {acc_train:.5f}\\t{acc_test:.5f}')\n"
   ]
  },
  {
   "cell_type": "code",
   "execution_count": 43,
   "metadata": {},
   "outputs": [],
   "source": [
    "model = MLP(n_in = 784, n_hidden = 30, n_out = 10)\n",
    "optimizer = torch.optim.AdamW(model.parameters(), lr=1e-3)\n",
    "loss_fn = nn.MSELoss()"
   ]
  },
  {
   "cell_type": "code",
   "execution_count": 44,
   "metadata": {},
   "outputs": [
    {
     "name": "stdout",
     "output_type": "stream",
     "text": [
      "step =      0\tloss=0.14495\taccuracy (train, test): 0.06500\t0.12200\n",
      "step =   1000\tloss=0.00110\taccuracy (train, test): 1.00000\t0.82700\n",
      "step =   2000\tloss=0.00028\taccuracy (train, test): 1.00000\t0.80200\n",
      "step =   3000\tloss=0.00013\taccuracy (train, test): 1.00000\t0.79500\n",
      "step =   4000\tloss=0.00007\taccuracy (train, test): 1.00000\t0.78900\n",
      "step =   5000\tloss=0.00005\taccuracy (train, test): 1.00000\t0.79000\n",
      "step =   6000\tloss=0.00005\taccuracy (train, test): 1.00000\t0.79200\n",
      "step =   7000\tloss=0.00003\taccuracy (train, test): 1.00000\t0.79300\n",
      "step =   8000\tloss=0.00002\taccuracy (train, test): 1.00000\t0.78500\n",
      "step =   9000\tloss=0.00003\taccuracy (train, test): 1.00000\t0.78300\n"
     ]
    }
   ],
   "source": [
    "# training\n",
    "num_epochs = 10000\n",
    "\n",
    "for n in range(num_epochs):\n",
    "    y_pred = model(X_tr)\n",
    "    loss = loss_fn(y_pred, Y_tr)\n",
    "    optimizer.zero_grad()\n",
    "    loss.backward()\n",
    "    optimizer.step()\n",
    "    if n % 1000 == 0: \n",
    "        with torch.no_grad():\n",
    "            # train accuracy\n",
    "            acc_train = compute_accuracy(y_pred, Y_tr)\n",
    "            # test accuracy\n",
    "            y_test_preds = model(X_test)\n",
    "            acc_test = compute_accuracy(y_test_preds, Y_test)\n",
    "            print(f'step = {n:6d}\\tloss={loss.item():.5f}\\taccuracy (train, test): {acc_train:.5f}\\t{acc_test:.5f}')\n"
   ]
  },
  {
   "cell_type": "markdown",
   "metadata": {},
   "source": [
    "Pas très concluant non plus..."
   ]
  },
  {
   "cell_type": "markdown",
   "metadata": {},
   "source": [
    "##### Modifier la fonction de perte : MSEloss -> CrossEntropyLoss"
   ]
  },
  {
   "cell_type": "code",
   "execution_count": 45,
   "metadata": {},
   "outputs": [],
   "source": [
    "model = MLP(n_in = 784, n_hidden = 50, n_out = 10)\n",
    "optimizer = torch.optim.AdamW(model.parameters(), lr=1e-2)\n",
    "loss_fn = nn.CrossEntropyLoss()"
   ]
  },
  {
   "cell_type": "code",
   "execution_count": 46,
   "metadata": {},
   "outputs": [
    {
     "name": "stdout",
     "output_type": "stream",
     "text": [
      "step =      0\tloss=2.09453\taccuracy (train, test): 0.12500\t0.30200\n",
      "step =   1000\tloss=0.72467\taccuracy (train, test): 0.99300\t0.85900\n",
      "step =   2000\tloss=0.72415\taccuracy (train, test): 0.99400\t0.85900\n",
      "step =   3000\tloss=0.72409\taccuracy (train, test): 0.99400\t0.85500\n",
      "step =   4000\tloss=0.72406\taccuracy (train, test): 0.99400\t0.84800\n",
      "step =   5000\tloss=0.72405\taccuracy (train, test): 0.99400\t0.85200\n",
      "step =   6000\tloss=0.72404\taccuracy (train, test): 0.99400\t0.84700\n",
      "step =   7000\tloss=0.72403\taccuracy (train, test): 0.99400\t0.85300\n",
      "step =   8000\tloss=0.72403\taccuracy (train, test): 0.99400\t0.85100\n",
      "step =   9000\tloss=0.72403\taccuracy (train, test): 0.99400\t0.85000\n"
     ]
    }
   ],
   "source": [
    "# training\n",
    "num_epochs = 10000\n",
    "\n",
    "for n in range(num_epochs):\n",
    "    y_pred = model(X_tr)\n",
    "    loss = loss_fn(y_pred, Y_tr)\n",
    "    optimizer.zero_grad()\n",
    "    loss.backward()\n",
    "    optimizer.step()\n",
    "    if n % 1000 == 0: \n",
    "        with torch.no_grad():\n",
    "            # train accuracy\n",
    "            acc_train = compute_accuracy(y_pred, Y_tr)\n",
    "            # test accuracy\n",
    "            y_test_preds = model(X_test)\n",
    "            acc_test = compute_accuracy(y_test_preds, Y_test)\n",
    "            print(f'step = {n:6d}\\tloss={loss.item():.5f}\\taccuracy (train, test): {acc_train:.5f}\\t{acc_test:.5f}')\n"
   ]
  },
  {
   "cell_type": "markdown",
   "metadata": {},
   "source": [
    "Bien meilleur ! Il y a moins d'overfitting et la précision sur l'ensemble de test a légèrement augmenté. "
   ]
  },
  {
   "cell_type": "code",
   "execution_count": 47,
   "metadata": {},
   "outputs": [],
   "source": [
    "model = MLP(n_in = 784, n_hidden = 35, n_out = 10)\n",
    "optimizer = torch.optim.AdamW(model.parameters(), lr=1e-2)\n",
    "loss_fn = nn.CrossEntropyLoss()"
   ]
  },
  {
   "cell_type": "code",
   "execution_count": 48,
   "metadata": {},
   "outputs": [
    {
     "name": "stdout",
     "output_type": "stream",
     "text": [
      "step =      0\tloss=2.09125\taccuracy (train, test): 0.09400\t0.29900\n",
      "step =   1000\tloss=0.72433\taccuracy (train, test): 0.99500\t0.84800\n",
      "step =   2000\tloss=0.72393\taccuracy (train, test): 0.99500\t0.84000\n",
      "step =   3000\tloss=0.72383\taccuracy (train, test): 0.99500\t0.84500\n",
      "step =   4000\tloss=0.72379\taccuracy (train, test): 0.99500\t0.84700\n",
      "step =   5000\tloss=0.72376\taccuracy (train, test): 0.99500\t0.84700\n",
      "step =   6000\tloss=0.72375\taccuracy (train, test): 0.99500\t0.84500\n",
      "step =   7000\tloss=0.72374\taccuracy (train, test): 0.99500\t0.84400\n",
      "step =   8000\tloss=0.88926\taccuracy (train, test): 0.87600\t0.67100\n",
      "step =   9000\tloss=0.88162\taccuracy (train, test): 0.87900\t0.66900\n"
     ]
    }
   ],
   "source": [
    "# training\n",
    "num_epochs = 10000\n",
    "\n",
    "for n in range(num_epochs):\n",
    "    y_pred = model(X_tr)\n",
    "    loss = loss_fn(y_pred, Y_tr)\n",
    "    optimizer.zero_grad()\n",
    "    loss.backward()\n",
    "    optimizer.step()\n",
    "    if n % 1000 == 0: \n",
    "        with torch.no_grad():\n",
    "            # train accuracy\n",
    "            acc_train = compute_accuracy(y_pred, Y_tr)\n",
    "            # test accuracy\n",
    "            y_test_preds = model(X_test)\n",
    "            acc_test = compute_accuracy(y_test_preds, Y_test)\n",
    "            print(f'step = {n:6d}\\tloss={loss.item():.5f}\\taccuracy (train, test): {acc_train:.5f}\\t{acc_test:.5f}')\n"
   ]
  },
  {
   "cell_type": "markdown",
   "metadata": {},
   "source": [
    "Moins bien..."
   ]
  },
  {
   "cell_type": "markdown",
   "metadata": {},
   "source": [
    "##### Utiliser la régularisation L2 (weight_decay dans l'optimiseur Adamw)"
   ]
  },
  {
   "cell_type": "code",
   "execution_count": null,
   "metadata": {},
   "outputs": [],
   "source": [
    "model = MLP(n_in = 784, n_hidden = 50, n_out = 10)\n",
    "optimizer = torch.optim.AdamW(model.parameters(), lr=1e-2, weight_decay=1e-3)\n",
    "loss_fn = nn.CrossEntropyLoss()"
   ]
  },
  {
   "cell_type": "code",
   "execution_count": 50,
   "metadata": {},
   "outputs": [
    {
     "name": "stdout",
     "output_type": "stream",
     "text": [
      "step =      0\tloss=2.08669\taccuracy (train, test): 0.15100\t0.30500\n",
      "step =   1000\tloss=0.72747\taccuracy (train, test): 0.99200\t0.85100\n",
      "step =   2000\tloss=0.72682\taccuracy (train, test): 0.99200\t0.85100\n",
      "step =   3000\tloss=0.72677\taccuracy (train, test): 0.99200\t0.84900\n",
      "step =   4000\tloss=0.72540\taccuracy (train, test): 0.99300\t0.85100\n",
      "step =   5000\tloss=0.72539\taccuracy (train, test): 0.99300\t0.85400\n",
      "step =   6000\tloss=0.72539\taccuracy (train, test): 0.99300\t0.85300\n",
      "step =   7000\tloss=0.72538\taccuracy (train, test): 0.99300\t0.85500\n",
      "step =   8000\tloss=0.72538\taccuracy (train, test): 0.99300\t0.85400\n",
      "step =   9000\tloss=0.72538\taccuracy (train, test): 0.99300\t0.85200\n"
     ]
    }
   ],
   "source": [
    "# training\n",
    "num_epochs = 10000\n",
    "\n",
    "for n in range(num_epochs):\n",
    "    y_pred = model(X_tr)\n",
    "    loss = loss_fn(y_pred, Y_tr)\n",
    "    optimizer.zero_grad()\n",
    "    loss.backward()\n",
    "    optimizer.step()\n",
    "    if n % 1000 == 0: \n",
    "        with torch.no_grad():\n",
    "            # train accuracy\n",
    "            acc_train = compute_accuracy(y_pred, Y_tr)\n",
    "            # test accuracy\n",
    "            y_test_preds = model(X_test)\n",
    "            acc_test = compute_accuracy(y_test_preds, Y_test)\n",
    "            print(f'step = {n:6d}\\tloss={loss.item():.5f}\\taccuracy (train, test): {acc_train:.5f}\\t{acc_test:.5f}')\n"
   ]
  },
  {
   "cell_type": "code",
   "execution_count": 52,
   "metadata": {},
   "outputs": [],
   "source": [
    "model = MLP(n_in = 784, n_hidden = 50, n_out = 10)\n",
    "optimizer = torch.optim.AdamW(model.parameters(), lr=1e-2, weight_decay=1e-2)\n",
    "loss_fn = nn.CrossEntropyLoss()"
   ]
  },
  {
   "cell_type": "code",
   "execution_count": 53,
   "metadata": {},
   "outputs": [
    {
     "name": "stdout",
     "output_type": "stream",
     "text": [
      "step =      0\tloss=2.09918\taccuracy (train, test): 0.08200\t0.34500\n",
      "step =   1000\tloss=0.72624\taccuracy (train, test): 0.99300\t0.85400\n",
      "step =   2000\tloss=0.72458\taccuracy (train, test): 0.99400\t0.84800\n",
      "step =   3000\tloss=0.72408\taccuracy (train, test): 0.99400\t0.85000\n",
      "step =   4000\tloss=0.72406\taccuracy (train, test): 0.99400\t0.85300\n",
      "step =   5000\tloss=0.72404\taccuracy (train, test): 0.99400\t0.85600\n",
      "step =   6000\tloss=0.72404\taccuracy (train, test): 0.99400\t0.84500\n",
      "step =   7000\tloss=0.72403\taccuracy (train, test): 0.99400\t0.84900\n",
      "step =   8000\tloss=0.72403\taccuracy (train, test): 0.99400\t0.84600\n",
      "step =   9000\tloss=0.72403\taccuracy (train, test): 0.99400\t0.84600\n"
     ]
    }
   ],
   "source": [
    "# training\n",
    "num_epochs = 10000\n",
    "\n",
    "for n in range(num_epochs):\n",
    "    y_pred = model(X_tr)\n",
    "    loss = loss_fn(y_pred, Y_tr)\n",
    "    optimizer.zero_grad()\n",
    "    loss.backward()\n",
    "    optimizer.step()\n",
    "    if n % 1000 == 0: \n",
    "        with torch.no_grad():\n",
    "            # train accuracy\n",
    "            acc_train = compute_accuracy(y_pred, Y_tr)\n",
    "            # test accuracy\n",
    "            y_test_preds = model(X_test)\n",
    "            acc_test = compute_accuracy(y_test_preds, Y_test)\n",
    "            print(f'step = {n:6d}\\tloss={loss.item():.5f}\\taccuracy (train, test): {acc_train:.5f}\\t{acc_test:.5f}')\n"
   ]
  },
  {
   "cell_type": "markdown",
   "metadata": {},
   "source": [
    "##### Early stopping"
   ]
  },
  {
   "cell_type": "code",
   "execution_count": 54,
   "metadata": {},
   "outputs": [],
   "source": [
    "model = MLP(n_in = 784, n_hidden = 50, n_out = 10)\n",
    "optimizer = torch.optim.AdamW(model.parameters(), lr=1e-2, weight_decay=1e-2)\n",
    "loss_fn = nn.CrossEntropyLoss()"
   ]
  },
  {
   "cell_type": "code",
   "execution_count": 55,
   "metadata": {},
   "outputs": [
    {
     "name": "stdout",
     "output_type": "stream",
     "text": [
      "step =      0\tloss=2.11816\taccuracy (train, test): 0.07300\t0.24800\n",
      "step =   1000\tloss=0.72573\taccuracy (train, test): 0.99300\t0.84500\n",
      "step =   2000\tloss=0.72414\taccuracy (train, test): 0.99400\t0.84600\n",
      "step =   3000\tloss=0.72408\taccuracy (train, test): 0.99400\t0.84200\n",
      "step =   4000\tloss=0.72406\taccuracy (train, test): 0.99400\t0.84200\n",
      "step =   5000\tloss=0.72405\taccuracy (train, test): 0.99400\t0.84400\n",
      "step =   6000\tloss=0.72404\taccuracy (train, test): 0.99400\t0.84300\n",
      "step =   7000\tloss=0.72403\taccuracy (train, test): 0.99400\t0.83700\n",
      "step =   8000\tloss=0.72403\taccuracy (train, test): 0.99400\t0.83500\n",
      "step =   9000\tloss=0.88279\taccuracy (train, test): 0.88600\t0.73500\n"
     ]
    }
   ],
   "source": [
    "# training\n",
    "num_epochs = 10000\n",
    "best_test_acc = 0  # Meilleure accuracy test\n",
    "patience = 500  # Nombre d'époques sans amélioration avant d'arrêter\n",
    "counter = 0  # Compteur d'époques sans amélioration\n",
    "\n",
    "for n in range(num_epochs):\n",
    "    # Forward pass\n",
    "    y_pred = model(X_tr)\n",
    "    \n",
    "    # Calcul de la loss\n",
    "    loss = loss_fn(y_pred, Y_tr)\n",
    "    \n",
    "    # Backpropagation\n",
    "    optimizer.zero_grad()\n",
    "    loss.backward()\n",
    "    optimizer.step()\n",
    "    \n",
    "    # Vérifier l'accuracy tous les 1000 itérations\n",
    "    if n % 1000 == 0:\n",
    "        with torch.no_grad():\n",
    "            # Accuracy sur le train set\n",
    "            acc_train = compute_accuracy(y_pred, Y_tr)\n",
    "            \n",
    "            # Accuracy sur le test set\n",
    "            y_test_preds = model(X_test)\n",
    "            acc_test = compute_accuracy(y_test_preds, Y_test)\n",
    "            \n",
    "            # Affichage des résultats\n",
    "            print(f'step = {n:6d}\\tloss={loss.item():.5f}\\taccuracy (train, test): {acc_train:.5f}\\t{acc_test:.5f}')\n",
    "            \n",
    "            # Vérification de l'amélioration de l'accuracy sur le test set\n",
    "            if acc_test > best_test_acc:\n",
    "                best_test_acc = acc_test\n",
    "                counter = 0  # Réinitialiser le compteur si une amélioration est trouvée\n",
    "            else:\n",
    "                counter += 1  # Incrémenter le compteur si l'accuracy ne s'améliore pas\n",
    "                \n",
    "                # Arrêter l'entraînement si l'accuracy ne s'améliore pas après un certain nombre d'époques\n",
    "                if counter >= patience:\n",
    "                    print(\"Early stopping triggered.\")\n",
    "                    break\n"
   ]
  },
  {
   "cell_type": "markdown",
   "metadata": {},
   "source": [
    "Ne fonctionne pas vraiment..."
   ]
  }
 ],
 "metadata": {
  "kernelspec": {
   "display_name": "Python 3",
   "language": "python",
   "name": "python3"
  },
  "language_info": {
   "codemirror_mode": {
    "name": "ipython",
    "version": 3
   },
   "file_extension": ".py",
   "mimetype": "text/x-python",
   "name": "python",
   "nbconvert_exporter": "python",
   "pygments_lexer": "ipython3",
   "version": "3.11.9"
  }
 },
 "nbformat": 4,
 "nbformat_minor": 2
}
